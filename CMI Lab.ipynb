{
 "cells": [
  {
   "cell_type": "code",
   "execution_count": 278,
   "metadata": {},
   "outputs": [],
   "source": [
    "import pandas as pd \n",
    "import matplotlib.pyplot as plt\n",
    "import numpy as np \n",
    "from sklearn.linear_model import LinearRegression\n",
    "from statsmodels.stats.multicomp import pairwise_tukeyhsd\n",
    "from scipy import stats\n",
    "import statsmodels.api as sm\n",
    "import math"
   ]
  },
  {
   "cell_type": "code",
   "execution_count": 279,
   "metadata": {},
   "outputs": [
    {
     "name": "stdout",
     "output_type": "stream",
     "text": [
      "[0.24466724 2.0877256 ]\n"
     ]
    }
   ],
   "source": [
    "from scipy.optimize import fsolve\n",
    "def func(x, a, b):\n",
    "    return [(63 * np.cos(x[0]) + (48 * np.cos(x[0] + x[1]))) - a , (63 * np.sin(x[0]) + (48 * np.sin(x[0] + x[1]))) - b]\n",
    "\n",
    "z = np.array([1, 1])\n",
    "\n",
    "root = fsolve(func, z, args=(28, 50))\n",
    "print(root)\n",
    "# this is the only root that falls in our prescribed range from part b "
   ]
  },
  {
   "cell_type": "code",
   "execution_count": 280,
   "metadata": {},
   "outputs": [],
   "source": [
    "angle1 = [68.5271, 47.9938, 59.3727, 69.7045, 134.2469, 140.9782, 139.1202, 39.7267, 50.5546, 57.3029, 130.0336, 136.962, 138.3519, 138.413]"
   ]
  },
  {
   "cell_type": "code",
   "execution_count": 281,
   "metadata": {},
   "outputs": [],
   "source": [
    "leg2 = pd.read_excel(\"Leg_2.xlsx\")\n",
    "\n",
    "# convert = np.sqrt((leg2[\"Ruler_x1\"] - leg2[\"Ruler_x2\"])**2 + (leg2[\"Ruler_y1\"] - leg2[\"Ruler_y2\"])**2)\n",
    "# femur_length = np.sqrt((leg2[\"Knee_x\"] - leg2[\"Thigh_x\"])**2 + (leg2[\"Knee_y\"] - leg2[\"Thigh_y\"])**2) * 1/convert\n",
    "tibia_length = np.sqrt((leg2[\"Ankle1_x\"] - leg2[\"Knee_x\"])**2 + (leg2[\"Ankle1_y\"] - leg2[\"Knee_y\"])**2) * 1/convert\n",
    "# thigh_ank = np.sqrt((leg2[\"Ankle1_x\"] - leg2[\"Thigh_x\"])**2 + (leg2[\"Ankle1_y\"] - leg2[\"Thigh_y\"])**2) * 1/convert\n",
    "\n",
    "angle2 = []\n",
    "for i in range(0, len(tibia_length)):\n",
    "    v1 = [leg2[\"Thigh_x\"][i] - leg2[\"Knee_x\"][i], leg2[\"Thigh_y\"][i] - leg2[\"Knee_y\"][i]]\n",
    "    v2 = [leg2[\"Ankle1_x\"][i] - leg2[\"Knee_x\"][i], leg2[\"Ankle1_y\"][i] - leg2[\"Knee_y\"][i]]\n",
    "    u1 = v1 / np.linalg.norm(v1)\n",
    "    u2 = v2 / np.linalg.norm(v2)\n",
    "    dot = np.dot(u1, u2)\n",
    "    angle = np.arccos(dot)*180*1/np.pi\n",
    "    angle2 = np.append(angle2, angle)"
   ]
  },
  {
   "cell_type": "code",
   "execution_count": 282,
   "metadata": {},
   "outputs": [],
   "source": [
    "leg3 = pd.read_excel(\"Leg_3.xlsx\")\n",
    "\n",
    "angle3 = []\n",
    "for i in range(0, len(tibia_length)):\n",
    "    v1 = [leg3[\"Thigh_x\"][i] - leg3[\"Knee_x\"][i], leg3[\"Thigh_y\"][i] - leg3[\"Knee_y\"][i]]\n",
    "    v2 = [leg3[\"Ankle1_x\"][i] - leg3[\"Knee_x\"][i], leg3[\"Ankle1_y\"][i] - leg3[\"Knee_y\"][i]]\n",
    "    u1 = v1 / np.linalg.norm(v1)\n",
    "    u2 = v2 / np.linalg.norm(v2)\n",
    "    dot = np.dot(u1, u2)\n",
    "    angle = np.arccos(dot)*180*1/np.pi\n",
    "    angle3 = np.append(angle3, angle)"
   ]
  },
  {
   "cell_type": "code",
   "execution_count": 283,
   "metadata": {},
   "outputs": [],
   "source": [
    "leg4 = pd.read_excel(\"Leg_4.xlsx\")\n",
    "\n",
    "angle4 = []\n",
    "for i in range(0, len(tibia_length)):\n",
    "    v1 = [leg4[\"Thigh_x\"][i] - leg4[\"Knee_x\"][i], leg4[\"Thigh_y\"][i] - leg4[\"Knee_y\"][i]]\n",
    "    v2 = [leg4[\"Ankle1_x\"][i] - leg4[\"Knee_x\"][i], leg4[\"Ankle1_y\"][i] - leg4[\"Knee_y\"][i]]\n",
    "    u1 = v1 / np.linalg.norm(v1)\n",
    "    u2 = v2 / np.linalg.norm(v2)\n",
    "    dot = np.dot(u1, u2)\n",
    "    angle = np.arccos(dot)*180*1/np.pi\n",
    "    angle4 = np.append(angle4, angle)"
   ]
  },
  {
   "cell_type": "code",
   "execution_count": 284,
   "metadata": {},
   "outputs": [
    {
     "name": "stdout",
     "output_type": "stream",
     "text": [
      "F_onewayResult(statistic=0.12376112392954297, pvalue=0.9456624811849138)\n"
     ]
    }
   ],
   "source": [
    "anova = stats.f_oneway(angle1, angle2[0:41:3], angle3[0:41:3], angle4[0:41:3])\n",
    "print(anova)"
   ]
  },
  {
   "cell_type": "code",
   "execution_count": 285,
   "metadata": {},
   "outputs": [],
   "source": [
    "testing = pd.read_excel(\"DataData.xlsx\")"
   ]
  },
  {
   "cell_type": "code",
   "execution_count": 286,
   "metadata": {},
   "outputs": [],
   "source": [
    "testing1 = np.array(testing[\"ROM (degrees)\"][0:41:3])\n",
    "testing2 = np.array(testing[\"ROM (degrees)\"][1:41:3])\n",
    "testing3 = np.array(testing[\"ROM (degrees)\"][2:43:3])"
   ]
  },
  {
   "cell_type": "code",
   "execution_count": 287,
   "metadata": {},
   "outputs": [],
   "source": [
    "for i in range(0, len(testing1)-1):\n",
    "    arr1 = [testing1[3]]*5\n",
    "    arr2 = [testing2[3]]*5\n",
    "    arr3 = [testing3[3]]*5\n",
    "    anova = stats.f_oneway(testing1, testing2, testing3)"
   ]
  },
  {
   "cell_type": "code",
   "execution_count": 296,
   "metadata": {},
   "outputs": [],
   "source": [
    "#Range of Motion \n",
    "conversion = 0.0066\n",
    "tibia_length = 172.3660 * conversion\n",
    "\n",
    "max_2 = max(angle2)/180*np.pi\n",
    "min_2 = min(angle2)/180*np.pi\n",
    "max_3 = max(angle3)/180*np.pi\n",
    "min_3 = min(angle3)/180*np.pi\n",
    "max_4 = max(angle4)/180*np.pi\n",
    "min_4 = min(angle4)/180*np.pi\n",
    "\n",
    "val1 = np.linspace(0.220, 0.8040, num=100)\n",
    "val2 = np.linspace(min_2, max_2, num=100)\n",
    "val3 = np.linspace(min_3, max_3, num=100)\n",
    "val4 = np.linspace(min_4, max_4, num=100)\n",
    "\n",
    "x1 = tibia_length * np.cos(val1)\n",
    "y1 = tibia_length * np.sin(val1)\n",
    "x2 = tibia_length * np.cos(val2)\n",
    "y2 = tibia_length * np.sin(val2)\n",
    "x3 = tibia_length * np.cos(val3)\n",
    "y3 = tibia_length * np.sin(val3)\n",
    "x4 = tibia_length * np.cos(val4)\n",
    "y4 = tibia_length * np.sin(val4)"
   ]
  },
  {
   "cell_type": "code",
   "execution_count": null,
   "metadata": {},
   "outputs": [],
   "source": []
  }
 ],
 "metadata": {
  "kernelspec": {
   "display_name": "Python 3",
   "language": "python",
   "name": "python3"
  },
  "language_info": {
   "codemirror_mode": {
    "name": "ipython",
    "version": 3
   },
   "file_extension": ".py",
   "mimetype": "text/x-python",
   "name": "python",
   "nbconvert_exporter": "python",
   "pygments_lexer": "ipython3",
   "version": "3.7.4"
  },
  "varInspector": {
   "cols": {
    "lenName": 16,
    "lenType": 16,
    "lenVar": 40
   },
   "kernels_config": {
    "python": {
     "delete_cmd_postfix": "",
     "delete_cmd_prefix": "del ",
     "library": "var_list.py",
     "varRefreshCmd": "print(var_dic_list())"
    },
    "r": {
     "delete_cmd_postfix": ") ",
     "delete_cmd_prefix": "rm(",
     "library": "var_list.r",
     "varRefreshCmd": "cat(var_dic_list()) "
    }
   },
   "types_to_exclude": [
    "module",
    "function",
    "builtin_function_or_method",
    "instance",
    "_Feature"
   ],
   "window_display": false
  }
 },
 "nbformat": 4,
 "nbformat_minor": 2
}
